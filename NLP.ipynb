{
  "nbformat": 4,
  "nbformat_minor": 0,
  "metadata": {
    "colab": {
      "provenance": [],
      "authorship_tag": "ABX9TyNDEKshrASk1ZvMm9a4J69h",
      "include_colab_link": true
    },
    "kernelspec": {
      "name": "python3",
      "display_name": "Python 3"
    },
    "language_info": {
      "name": "python"
    }
  },
  "cells": [
    {
      "cell_type": "markdown",
      "metadata": {
        "id": "view-in-github",
        "colab_type": "text"
      },
      "source": [
        "<a href=\"https://colab.research.google.com/github/lathadevi158/AI_Sandbox/blob/main/NLP.ipynb\" target=\"_parent\"><img src=\"https://colab.research.google.com/assets/colab-badge.svg\" alt=\"Open In Colab\"/></a>"
      ]
    },
    {
      "cell_type": "markdown",
      "source": [
        "# **NLP**"
      ],
      "metadata": {
        "id": "qbrrum2DS9yS"
      }
    },
    {
      "cell_type": "markdown",
      "source": [
        "NLP stands for Natural Language Processing. In simple terms, it’s a field of Artificial Intelligence (AI) that focuses on making computers understand, interpret, and generate human language\n",
        "\n",
        "Examples you use every day:\n",
        "\n",
        "ChatGPT → answering questions\n",
        "\n",
        "Google Translate → translating languages\n",
        "\n",
        "Spam filters → detecting unwanted emails\n",
        "\n",
        "\n",
        "NLP Pipeline (Simplified)\n",
        "\n",
        "Text Input → raw text from user/documents\n",
        "\n",
        "Preprocessing → clean and structure the text\n",
        "\n",
        "Feature Extraction → convert text to numbers (vectors)\n",
        "\n",
        "Modeling / Understanding → ML or LLM predicts/generates output\n",
        "\n",
        "Output Generation → human-readable answer/text"
      ],
      "metadata": {
        "id": "SkkYC4bbTxkN"
      }
    },
    {
      "cell_type": "markdown",
      "source": [
        "\n",
        "3️⃣ Text Preprocessing Techniques\n",
        "\n",
        "Before feeding text into a model, we clean it:\n",
        "\n",
        "Technique\tPurpose\tPython Example\n",
        "Tokenization\tSplit text into words or subwords\t\"I love AI\" → [\"I\", \"love\", \"AI\"]\n",
        "Lowercasing\tStandardize text\t\"AI is Cool\" → \"ai is cool\"\n",
        "Stopword Removal\tRemove common words that add little meaning\t\"I love AI\" → [\"love\", \"AI\"]\n",
        "Stemming\tReduce words to base form (crude)\t\"running\" → \"run\"\n",
        "Lemmatization\tReduce words to dictionary form (better)\t\"running\" → \"run\"\n",
        "\n",
        "4️⃣ Representing Text as Numbers\n",
        "\n",
        "Models can’t understand raw text, so we convert it into vectors:\n",
        "\n",
        "Bag of Words (BoW)\n",
        "\n",
        "Count how many times each word appears\n",
        "\n",
        "Example: \"I love AI\", \"AI is fun\" → vector representation\n",
        "\n",
        "TF-IDF (Term Frequency – Inverse Document Frequency)\n",
        "\n",
        "Gives importance to rare words\n",
        "\n",
        "Example: common words like “is” get less weight\n",
        "\n",
        "This is how LLMs and classical NLP understand meaning from text.\n"
      ],
      "metadata": {
        "id": "92e5LXNmS9LS"
      }
    },
    {
      "cell_type": "code",
      "source": [
        "import nltk\n",
        "from nltk.tokenize import word_tokenize\n",
        "from nltk.corpus import stopwords\n",
        "from nltk.stem import PorterStemmer, WordNetLemmatizer\n",
        "\n",
        "nltk.download('punkt')\n",
        "nltk.download('stopwords')\n",
        "nltk.download('wordnet')\n",
        "\n",
        "text = \"I love exploring Generative AI with ChatGPT!\"\n",
        "\n",
        "# 1. Tokenization\n",
        "tokens = word_tokenize(text)\n",
        "print(\"Tokens:\", tokens)\n",
        "\n",
        "# 2. Stopword removal\n",
        "filtered_tokens = [t for t in tokens if t.lower() not in stopwords.words('english')]\n",
        "print(\"Without stopwords:\", filtered_tokens)\n",
        "\n",
        "# 3. Stemming\n",
        "stemmer = PorterStemmer()\n",
        "stemmed = [stemmer.stem(t) for t in filtered_tokens]\n",
        "print(\"Stemmed:\", stemmed)\n",
        "\n",
        "# 4. Lemmatization\n",
        "lemmatizer = WordNetLemmatizer()\n",
        "lemmatized = [lemmatizer.lemmatize(t) for t in filtered_tokens]\n",
        "print(\"Lemmatized:\", lemmatized)\n",
        "\n"
      ],
      "metadata": {
        "id": "cvtJAN1wTALp",
        "colab": {
          "base_uri": "https://localhost:8080/"
        },
        "outputId": "726bf4d1-464f-4cc0-d313-7a1280d84b38"
      },
      "execution_count": null,
      "outputs": [
        {
          "output_type": "stream",
          "name": "stdout",
          "text": [
            "Tokens: ['I', 'love', 'exploring', 'Generative', 'AI', 'with', 'ChatGPT', '!']\n",
            "Without stopwords: ['love', 'exploring', 'Generative', 'AI', 'ChatGPT', '!']\n",
            "Stemmed: ['love', 'explor', 'gener', 'ai', 'chatgpt', '!']\n",
            "Lemmatized: ['love', 'exploring', 'Generative', 'AI', 'ChatGPT', '!']\n"
          ]
        },
        {
          "output_type": "stream",
          "name": "stderr",
          "text": [
            "[nltk_data] Downloading package punkt to /root/nltk_data...\n",
            "[nltk_data]   Package punkt is already up-to-date!\n",
            "[nltk_data] Downloading package stopwords to /root/nltk_data...\n",
            "[nltk_data]   Package stopwords is already up-to-date!\n",
            "[nltk_data] Downloading package wordnet to /root/nltk_data...\n",
            "[nltk_data]   Package wordnet is already up-to-date!\n",
            "[nltk_data] Downloading package punkt_tab to /root/nltk_data...\n",
            "[nltk_data]   Package punkt_tab is already up-to-date!\n"
          ]
        }
      ]
    },
    {
      "cell_type": "code",
      "source": [
        "# Import necessary libraries for vectorization\n",
        "from sklearn.feature_extraction.text import CountVectorizer, TfidfVectorizer\n",
        "\n",
        "# Assuming 'documents' is a list of strings (your text data)\n",
        "# Replace this with your actual data if needed\n",
        "documents = [\"I love AI\", \"AI is fun\"]\n",
        "\n",
        "# 1️⃣ Bag of Words (BoW)\n",
        "# -----------------------------\n",
        "bow_vectorizer = CountVectorizer()\n",
        "bow = bow_vectorizer.fit_transform(documents)\n",
        "\n",
        "print(\"Bag of Words Vocabulary:\")\n",
        "print(bow_vectorizer.get_feature_names_out())\n",
        "\n",
        "print(\"\\nBag of Words Vectors:\")\n",
        "print(bow.toarray())\n",
        "\n",
        "# -----------------------------\n",
        "# 2️⃣ TF-IDF\n",
        "# -----------------------------\n",
        "tfidf_vectorizer = TfidfVectorizer()\n",
        "tfidf = tfidf_vectorizer.fit_transform(documents)\n",
        "\n",
        "print(\"\\nTF-IDF Vocabulary:\")\n",
        "print(tfidf_vectorizer.get_feature_names_out())\n",
        "\n",
        "print(\"\\nTF-IDF Vectors:\")\n",
        "print(tfidf.toarray())"
      ],
      "metadata": {
        "id": "GM81S8bAUCnM",
        "colab": {
          "base_uri": "https://localhost:8080/"
        },
        "outputId": "1667c8c0-7963-41c0-9125-3e8314cf624f"
      },
      "execution_count": null,
      "outputs": [
        {
          "output_type": "stream",
          "name": "stdout",
          "text": [
            "Bag of Words Vocabulary:\n",
            "['ai' 'fun' 'is' 'love']\n",
            "\n",
            "Bag of Words Vectors:\n",
            "[[1 0 0 1]\n",
            " [1 1 1 0]]\n",
            "\n",
            "TF-IDF Vocabulary:\n",
            "['ai' 'fun' 'is' 'love']\n",
            "\n",
            "TF-IDF Vectors:\n",
            "[[0.57973867 0.         0.         0.81480247]\n",
            " [0.44943642 0.6316672  0.6316672  0.        ]]\n"
          ]
        }
      ]
    },
    {
      "cell_type": "markdown",
      "source": [
        "🍕 Stemming vs Lemmatization – The Food Analogy\n",
        "\n",
        "Imagine words are like pizzas 🍕\n",
        "\n",
        "Technique\tAnalogy\tExample\n",
        "Stemming\tYou take a pizza and just bite off a big chunk. Doesn’t matter if it’s messy, you just want the main part.\t\"running\" → \"run\" ; \"flies\" → \"fli\" (oops, some weird bite!)\n",
        "\n",
        "Lemmatization\tYou carefully cut the pizza into neat slices so it looks perfect and edible.\t\"running\" → \"run\" ; \"flies\" → \"fly\" (looks exactly like it should!)\n",
        "\n",
        "Stemming = messy but fast snack bite 🍽️\n",
        "\n",
        "Lemmatization = neat, proper slice 🍕✨"
      ],
      "metadata": {
        "id": "KPpSY8ebURl1"
      }
    },
    {
      "cell_type": "markdown",
      "source": [
        "1️⃣ Parts of Speech (POS) Tagging\n",
        "\n",
        "What it is:\n",
        "\n",
        "Every word in a sentence has a role: noun, verb, adjective, etc.\n",
        "\n",
        "POS tagging tells the computer what role each word plays.\n",
        "\n",
        "Kid/Food Analogy:\n",
        "\n",
        "Imagine a sentence is a kitchen:\n",
        "\n",
        "Nouns = ingredients (apple, sugar)\n",
        "\n",
        "Verbs = actions (chop, mix)\n",
        "\n",
        "Adjectives = descriptions (sweet, fresh)\n",
        "\n",
        "Example Sentence:\n",
        "\"I love eating chocolate\"\n",
        "\n",
        "I → Pronoun\n",
        "\n",
        "love → Verb\n",
        "\n",
        "eating → Verb\n",
        "\n",
        "chocolate → Noun"
      ],
      "metadata": {
        "id": "unY4RmW8VOjU"
      }
    },
    {
      "cell_type": "code",
      "source": [
        "import spacy\n",
        "\n",
        "nlp = spacy.load(\"en_core_web_sm\")\n",
        "text = \"I love eating chocolate\"\n",
        "\n",
        "doc = nlp(text)\n",
        "for token in doc:\n",
        "    print(token.text, token.pos_)\n"
      ],
      "metadata": {
        "colab": {
          "base_uri": "https://localhost:8080/"
        },
        "id": "gHPkkbLVVFpz",
        "outputId": "8d987bc4-5f06-4b16-837c-ce384ba085ee"
      },
      "execution_count": null,
      "outputs": [
        {
          "output_type": "stream",
          "name": "stdout",
          "text": [
            "I PRON\n",
            "love VERB\n",
            "eating VERB\n",
            "chocolate NOUN\n"
          ]
        }
      ]
    },
    {
      "cell_type": "markdown",
      "source": [
        "2️⃣ Named Entity Recognition (NER)\n",
        "\n",
        "What it is:\n",
        "\n",
        "Finds special entities in text: names, places, dates, organizations.\n",
        "\n",
        "Kid/Food Analogy:\n",
        "\n",
        "Imagine you’re picking special ingredients from a big bowl:\n",
        "\n",
        "“Elon Musk founded SpaceX in 2002” →\n",
        "\n",
        "Elon Musk = PERSON\n",
        "\n",
        "SpaceX = ORG\n",
        "\n",
        "2002 = DATE"
      ],
      "metadata": {
        "id": "m4fsCd7bVbp3"
      }
    },
    {
      "cell_type": "code",
      "source": [
        "for ent in doc.ents:\n",
        "    print(ent.text, ent.label_)\n"
      ],
      "metadata": {
        "id": "QUppvCKcVbYs"
      },
      "execution_count": null,
      "outputs": []
    },
    {
      "cell_type": "markdown",
      "source": [
        "3️⃣ Sentiment Analysis\n",
        "\n",
        "What it is:\n",
        "\n",
        "Detects emotion or opinion in text: positive, negative, neutral.\n",
        "\n",
        "Kid/Food Analogy:\n",
        "\n",
        "Taste test your food:\n",
        "\n",
        "\"I love pizza!\" → 😊 Positive\n",
        "\n",
        "\"This soup is terrible.\" → 😞 Negative"
      ],
      "metadata": {
        "id": "H_dbvvQ1VbBP"
      }
    },
    {
      "cell_type": "code",
      "source": [
        "from textblob import TextBlob\n",
        "\n",
        "text = \"I love pizza but hate onions\"\n",
        "blob = TextBlob(text)\n",
        "print(blob.sentiment)  # polarity, subjectivity\n",
        "\n",
        "#Polarity > 0 → positive, <0 → negative, 0 → neutral"
      ],
      "metadata": {
        "colab": {
          "base_uri": "https://localhost:8080/"
        },
        "id": "0fwT2v1zVaw1",
        "outputId": "54f98451-1271-420c-bb70-518f52085b7e"
      },
      "execution_count": null,
      "outputs": [
        {
          "output_type": "stream",
          "name": "stdout",
          "text": [
            "Sentiment(polarity=-0.15000000000000002, subjectivity=0.75)\n"
          ]
        }
      ]
    },
    {
      "cell_type": "markdown",
      "source": [
        "4️⃣ Word Embeddings (Word2Vec / GloVe)\n",
        "\n",
        "What it is:\n",
        "\n",
        "Converts words into numbers (vectors) so models can see similarity and meaning.\n",
        "\n",
        "Words with similar meaning have vectors close to each other.\n",
        "\n",
        "Kid/Food Analogy:\n",
        "\n",
        "Imagine a fridge map:\n",
        "\n",
        "“apple” is near “banana” (both fruits)\n",
        "\n",
        "“carrot” is a bit farther (vegetable)\n",
        "\n",
        "So the computer knows which words are “similar” in meaning."
      ],
      "metadata": {
        "id": "xwnd9ZHcVacA"
      }
    },
    {
      "cell_type": "code",
      "source": [
        "from gensim.models import Word2Vec\n",
        "\n",
        "sentences = [[\"I\", \"love\", \"pizza\"], [\"Pizza\", \"is\", \"delicious\"], [\"I\", \"hate\", \"onions\"]]\n",
        "model = Word2Vec(sentences, vector_size=10, window=2, min_count=1, workers=1)\n",
        "\n",
        "print(model.wv['pizza'])  # vector representation of \"pizza\"\n",
        "print(model.wv.similarity('pizza', 'delicious'))  # similarity score\n"
      ],
      "metadata": {
        "colab": {
          "base_uri": "https://localhost:8080/"
        },
        "id": "QiT5r7scVaLl",
        "outputId": "5c97be9b-4625-43c7-bd78-d665721d2943"
      },
      "execution_count": null,
      "outputs": [
        {
          "output_type": "stream",
          "name": "stdout",
          "text": [
            "[-0.01577653  0.00321372 -0.0414063  -0.07682689 -0.01508008  0.02469795\n",
            " -0.00888027  0.05533662 -0.02742977  0.02260065]\n",
            "-0.11387499\n"
          ]
        }
      ]
    },
    {
      "cell_type": "markdown",
      "source": [
        "#Sequence-to-Sequence (Seq2Seq) Models\n",
        "\n",
        "What it is:\n",
        "\n",
        "Converts one sequence → another sequence.\n",
        "\n",
        "Used in translation, summarization, chatbots.\n",
        "\n",
        "Kid/Food Analogy:\n",
        "\n",
        "Giving a recipe in English → computer writes it in French.\n",
        "\n",
        "Input = English recipe, Output = French recipe"
      ],
      "metadata": {
        "id": "RZpLVhGb6rEW"
      }
    },
    {
      "cell_type": "code",
      "source": [
        "from transformers import pipeline\n",
        "translator = pipeline(\"translation_en_to_fr\", model=\"t5-small\")\n",
        "translator(\"I love learning NLP\")  # Output in French\n"
      ],
      "metadata": {
        "id": "6mSlVk386tIm",
        "outputId": "bc2516a4-4fa7-4d1f-9ac8-8fe76d5413e0",
        "colab": {
          "base_uri": "https://localhost:8080/"
        }
      },
      "execution_count": 2,
      "outputs": [
        {
          "output_type": "stream",
          "name": "stderr",
          "text": [
            "Device set to use cpu\n"
          ]
        },
        {
          "output_type": "execute_result",
          "data": {
            "text/plain": [
              "[{'translation_text': \"J'aime apprendre NLP\"}]"
            ]
          },
          "metadata": {},
          "execution_count": 2
        }
      ]
    },
    {
      "cell_type": "markdown",
      "source": [
        "# Attention Mechanism\n",
        "\n",
        "Problem before attention:\n",
        "\n",
        "Old models “forget” important words in long sentences.\n",
        "\n",
        "Solution: Attention\n",
        "\n",
        "Gives weight to important words regardless of position.\n",
        "\n",
        "Food Analogy:\n",
        "\n",
        "Making pizza: recipe says “Add cheese, then sauce, then toppings”\n",
        "\n",
        "Attention = remembering exactly when cheese matters, even in a long recipe.\n",
        "\n",
        "3️⃣ Transformers (BERT / GPT)\n",
        "\n",
        "What it is:\n",
        "\n",
        "Modern LLMs are built with Transformers.\n",
        "\n",
        "Transformers use attention to understand context.\n",
        "\n",
        "Kid/Food Analogy:\n",
        "\n",
        "A super smart chef who reads the entire cookbook at once and predicts the next step perfectly.\n",
        "\n",
        "How LLMs generate text:\n",
        "\n",
        "Text → tokens\n",
        "\n",
        "Tokens → embeddings\n",
        "\n",
        "Transformer layers → contextualized token vectors\n",
        "\n",
        "Predict next word repeatedly → output sentence\n",
        "\n",
        "4️⃣ Embeddings – static vs contextual\n",
        "\n",
        "Static embeddings: Word2Vec, GloVe → each word has one vector\n",
        "\n",
        "Contextual embeddings: LLMs → same word has different vectors depending on sentence context\n",
        "\n",
        "Example:\n",
        "\n",
        "“bank” in:\n",
        "\n",
        "“I went to the bank to deposit money” → vector A\n",
        "\n",
        "“I sat by the bank of the river” → vector B"
      ],
      "metadata": {
        "id": "RRNm0XqN6wiU"
      }
    },
    {
      "cell_type": "code",
      "source": [
        "# 5️⃣ Hugging Face Mini Demo – Sentiment Analysis\n",
        "from transformers import pipeline\n",
        "\n",
        "classifier = pipeline(\"sentiment-analysis\")\n",
        "text = \"I love learning NLP with ChatGPT!\"\n",
        "result = classifier(text)\n",
        "print(result)  # [{'label': 'POSITIVE', 'score': 0.999}]\n",
        "\n",
        "\n",
        "# Behind the scenes: text → tokenized → embeddings → transformer layers → prediction"
      ],
      "metadata": {
        "id": "gIl2VZUx7LzI",
        "outputId": "29630a16-538a-453b-9df7-9a13998f43eb",
        "colab": {
          "base_uri": "https://localhost:8080/"
        }
      },
      "execution_count": 4,
      "outputs": [
        {
          "output_type": "stream",
          "name": "stderr",
          "text": [
            "No model was supplied, defaulted to distilbert/distilbert-base-uncased-finetuned-sst-2-english and revision 714eb0f (https://huggingface.co/distilbert/distilbert-base-uncased-finetuned-sst-2-english).\n",
            "Using a pipeline without specifying a model name and revision in production is not recommended.\n",
            "Device set to use cpu\n"
          ]
        },
        {
          "output_type": "stream",
          "name": "stdout",
          "text": [
            "[{'label': 'POSITIVE', 'score': 0.99512779712677}]\n"
          ]
        }
      ]
    }
  ]
}